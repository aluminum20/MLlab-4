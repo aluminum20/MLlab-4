{
 "cells": [
  {
   "cell_type": "code",
   "execution_count": 2,
   "metadata": {
    "collapsed": true
   },
   "outputs": [],
   "source": [
    "import numpy as np\n",
    "import matplotlib.pyplot as plt\n",
    "#  从指定路径文件中加载数据\n",
    "def load_data(path):\n",
    "    rating_mat = np.zeros((943, 1682))     # 初始化评分矩阵\n",
    "    f = open(path)\n",
    "    for line in f.readlines():\n",
    "        nums = line.split(\"\\t\")                       # 按制表符划分\n",
    "        nums = [int(x) for x in nums]                 # 转化为数字\n",
    "        rating_mat[nums[0]-1][nums[1]-1] = nums[2]\n",
    "    f.close()\n",
    "    return rating_mat\n",
    "    \n",
    "    "
   ]
  },
  {
   "cell_type": "code",
   "execution_count": 3,
   "metadata": {
    "collapsed": true
   },
   "outputs": [],
   "source": [
    "#  固定 Q 更新 P \n",
    "def gradient(P, Q, R, lamb):\n",
    "    row = P.shape[0]\n",
    "    for u in range(row):\n",
    "        b = R[u] != 0\n",
    "        n = R[u].sum()\n",
    "        P[u] = np.linalg.pinv(Q[b].T.dot(Q[b]) + lamb).dot(Q.T.dot(R[u].reshape(1,-1).T)).ravel()\n",
    "    return P"
   ]
  },
  {
   "cell_type": "code",
   "execution_count": 4,
   "metadata": {
    "collapsed": true
   },
   "outputs": [],
   "source": [
    "# 计算均方根误差\n",
    "def Loss(P, Q, R):\n",
    "    b = R != 0\n",
    "    loss = np.sqrt(((R[b] - (P.dot(Q.T))[b])** 2).mean())\n",
    "    return loss"
   ]
  },
  {
   "cell_type": "code",
   "execution_count": 5,
   "metadata": {
    "collapsed": true
   },
   "outputs": [],
   "source": [
    "# 交替最小二乘\n",
    "def ALS(R_train, R_val):\n",
    "    K = 20             # 潜在特征数\n",
    "    lamb = 149011611938476.56         # 正则化参数\n",
    "    iterations = 20    # 训练轮数\n",
    "    loss_train = []\n",
    "    loss_val = []\n",
    "    n_user, n_item = R_train.shape\n",
    "    np.random.normal\n",
    "    P = np.random.normal(0,0.1,(n_user, K))\n",
    "    Q = np.random.normal(0,0.1,(n_item, K))\n",
    "    for i in range(iterations):\n",
    "        P = gradient(P, Q, R_train, lamb)\n",
    "        Q = gradient(Q, P, R_train.T, lamb)\n",
    "        loss_t = Loss(P, Q, R_train)\n",
    "        loss_train.append(loss_t)\n",
    "        loss_v = Loss(P, Q, R_val)\n",
    "        loss_val.append(loss_v)\n",
    "    return loss_train,loss_val"
   ]
  },
  {
   "cell_type": "code",
   "execution_count": 6,
   "metadata": {},
   "outputs": [
    {
     "data": {
      "image/png": "[encoded data removed]",
      "text/plain": [
       "<matplotlib.figure.Figure at 0x7fb1d00a5fd0>"
      ]
     },
     "metadata": {},
     "output_type": "display_data"
    }
   ],
   "source": [
    "R_train = load_data(\"ml-100k/u2.base\")\n",
    "R_val = load_data(\"ml-100k/u2.test\")\n",
    "loss_train, loss_val = ALS(R_train, R_val)\n",
    "x = len(loss_train)\n",
    "plt.figure()\n",
    "plt.title(\"Recommander System\")\n",
    "plt.xlabel(\"iterations\")\n",
    "plt.ylabel(\"loss\")\n",
    "plt.plot(range(x), loss_train, \"r\",label=\"train\")\n",
    "plt.plot(range(x), loss_val, \"b\",label=\"validation\")\n",
    "plt.legend(loc=\"upper right\")\n",
    "plt.show()"
   ]
  },
  {
   "cell_type": "code",
   "execution_count": null,
   "metadata": {
    "collapsed": true
   },
   "outputs": [],
   "source": []
  }
 ],
 "metadata": {
  "kernelspec": {
   "display_name": "Python 2",
   "language": "python",
   "name": "python2"
  },
  "language_info": {
   "codemirror_mode": {
    "name": "ipython",
    "version": 2
   },
   "file_extension": ".py",
   "mimetype": "text/x-python",
   "name": "python",
   "nbconvert_exporter": "python",
   "pygments_lexer": "ipython2",
   "version": "2.7.13"
  }
 },
 "nbformat": 4,
 "nbformat_minor": 2
}
